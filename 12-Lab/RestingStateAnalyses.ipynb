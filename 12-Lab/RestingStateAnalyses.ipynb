{
 "cells": [
  {
   "cell_type": "markdown",
   "metadata": {},
   "source": [
    "# Lab 12: Resting state analyses\n",
    "\n",
    "The goal of this lab is to introduce how to do simple resting state analyses. The scripts we provide allow for doing simple seed-based analyses that generate a statistical map of functional connectivity with a seed.\n",
    "\n",
    "For this lab some commands may be better run in the terminal rather than through the notebook. Look out for instructions on this throughout the notebook.\n"
   ]
  },
  {
   "cell_type": "markdown",
   "metadata": {},
   "source": [
    "## Set up the computing environment"
   ]
  },
  {
   "cell_type": "code",
   "execution_count": null,
   "metadata": {
    "scrolled": true
   },
   "outputs": [],
   "source": [
    "%%bash\n",
    "\n",
    "# ICA-AROMA\n",
    "mkdir ${HOME}/packages\n",
    "cd ${HOME}/packages\n",
    "wget https://github.com/maartenmennes/ICA-AROMA/archive/v0.4.4-beta.tar.gz\n",
    "tar -xf v0.4.4-beta.tar.gz\n",
    "chmod +x ./ICA-AROMA-0.4.4-beta/*.py\n",
    "echo 'export PATH=${HOME}/packages/ICA-AROMA-0.4.4-beta:${PATH}' >> ~/.bashrc\n",
    "source ~/.bashrc"
   ]
  },
  {
   "cell_type": "code",
   "execution_count": null,
   "metadata": {},
   "outputs": [],
   "source": [
    "%%bash\n",
    "\n",
    "# Resting state scripts\n",
    "cd ${HOME}/packages\n",
    "# this can change if we update to the HBC repository\n",
    "wget https://github.com/mwvoss/RestingState/archive/class_vm_scripts.zip\n",
    "unzip class_vm_scripts.zip\n",
    "echo 'export PATH=${HOME}/packages/RestingState-class_vm_scripts:${PATH}' >> ~/.bashrc\n",
    "source ~/.bashrc"
   ]
  },
  {
   "cell_type": "code",
   "execution_count": null,
   "metadata": {},
   "outputs": [],
   "source": [
    "%%bash\n",
    "\n",
    "# run in the terminal\n",
    "# create a python2.7 environment\n",
    "conda create -n RestingState python=2.7\n",
    "source activate RestingState"
   ]
  },
  {
   "cell_type": "code",
   "execution_count": null,
   "metadata": {},
   "outputs": [],
   "source": [
    "%%bash \n",
    "\n",
    "# run in the terminal\n",
    "# Install necessary python packages\n",
    "\n",
    "source activate RestingState\n",
    "conda install -y future numpy pandas seaborn jupyter\n"
   ]
  },
  {
   "cell_type": "markdown",
   "metadata": {},
   "source": [
    "### Get octave installed (public form of matlab)\n",
    "\n",
    "* Run the following in the terminal"
   ]
  },
  {
   "cell_type": "code",
   "execution_count": null,
   "metadata": {},
   "outputs": [],
   "source": [
    "%%bash\n",
    "\n",
    "# run in the terminal\n",
    "# setup debian environment for octave\n",
    "\n",
    "echo \"deb http://ftp.debian.org/debian jessie-backports main\" | sudo tee -a /etc/apt/sources.list\n",
    "sudo apt update\n",
    "sudo apt -t jessie-backports install liboctave-dev octave"
   ]
  },
  {
   "cell_type": "code",
   "execution_count": null,
   "metadata": {},
   "outputs": [],
   "source": [
    "%%bash\n",
    "\n",
    "# setup Octave\n",
    "\n",
    "# open Octave by typing this in the terminal:\n",
    "octave\n",
    "\n",
    "# type the following in the gui\n",
    "pkg install -forge image\n",
    "pkg install -forge nan\n",
    "# close octave (can type exit at the command prompt)"
   ]
  },
  {
   "cell_type": "code",
   "execution_count": null,
   "metadata": {},
   "outputs": [],
   "source": [
    "%%bash\n",
    "\n",
    "# make an rc file for octave so that it loads the package image everytime it's opened\n",
    "# in the terminal type:\n",
    "\n",
    "touch ~/.octaverc\n",
    "echo \"pkg load image\" > ~/.octaverc\n",
    "echo \"pkg load nan\" >> ~/.octaverc"
   ]
  },
  {
   "cell_type": "markdown",
   "metadata": {},
   "source": [
    "## Download example data\n",
    "* Note it is in bids format, which the scripts will expect"
   ]
  },
  {
   "cell_type": "code",
   "execution_count": null,
   "metadata": {},
   "outputs": [],
   "source": [
    "%%bash\n",
    "\n",
    "wget --quiet -O 12-Lab_data.tar.gz https://osf.io/2smk3/download &&\\\n",
    "tar -xf 12-Lab_data.tar.gz &&\\\n",
    "rm 12-Lab_data.tar.gz"
   ]
  },
  {
   "cell_type": "markdown",
   "metadata": {},
   "source": [
    "## Using the scripts "
   ]
  },
  {
   "cell_type": "markdown",
   "metadata": {},
   "source": [
    "### Make an ROI\n",
    "* Let's make visual cortex ROIs from the Van Dijk review that we read\n",
    "    * L MNI: -30, -88, 0\n",
    "    * R MNI: 30, -88, 0 "
   ]
  },
  {
   "cell_type": "code",
   "execution_count": null,
   "metadata": {},
   "outputs": [],
   "source": [
    "%%bash\n",
    "\n",
    "# show usage\n",
    "/home/brain/packages/RestingState-class_vm_scripts/makeROI.sh\n"
   ]
  },
  {
   "cell_type": "code",
   "execution_count": null,
   "metadata": {},
   "outputs": [],
   "source": [
    "%%bash\n",
    "\n",
    "# make an ROIs directory, the makeROI script will place ROIs there..\n",
    "mkdir ROIs\n",
    "\n",
    "# run script\n",
    "/home/brain/packages/RestingState-class_vm_scripts/makeROI.sh -30 -88 0 mm 14 sphere LVis\n",
    "/home/brain/packages/RestingState-class_vm_scripts/makeROI.sh 30 -88 0 mm 14 sphere RVis"
   ]
  },
  {
   "cell_type": "code",
   "execution_count": null,
   "metadata": {},
   "outputs": [],
   "source": [
    "%%bash \n",
    "\n",
    "# take a look\n",
    "fslview /usr/share/fsl/5.0/data/standard/avg152T1.nii.gz ROIs/LVis.nii.gz ROIs/RVis.nii.gz"
   ]
  },
  {
   "cell_type": "code",
   "execution_count": null,
   "metadata": {},
   "outputs": [],
   "source": [
    "%%bash\n",
    "\n",
    "# make a list with full paths to these ROIs\n",
    "find \"$PWD/ROIs\" -name \"*.nii.gz\" -type f > ${PWD}/ROIs/roilist.txt"
   ]
  },
  {
   "cell_type": "markdown",
   "metadata": {},
   "source": [
    "### Run a seed-based analyses with these ROIs\n",
    "\n",
    "Scripts assume bids storage format and provide the following workflow:\n",
    "* Preprocessing: motion correction with 3dvolreg, spatial smoothing (default is 6mm FWHM)\n",
    "* Denoising: ica-aroma\n",
    "* Bandpass filtering: default .008 < hz < .08 \n",
    "* Nuisance regression: first five eigenvariates of wm and csf, where these ROIs are determined from subject-level FAST segmentation maps which are eroded to maintain only the most probable voxels of each tissue class\n",
    "* Motion scrubbing: following the nuisance regression and with volume deletion, this can allow motion to spread through volumes but avoids having to interpolate raw data\n",
    "* Registration of EPI to T1: 6dof (option of BBR)\n",
    "* Registration of T1 to MNI: FNIRT"
   ]
  },
  {
   "cell_type": "code",
   "execution_count": null,
   "metadata": {
    "scrolled": true
   },
   "outputs": [],
   "source": [
    "%%bash\n",
    "\n",
    "# you may have to edit the path for where your data are\n",
    "\n",
    "# run this in the terminal to avoid a memory error\n",
    "/home/brain/packages/RestingState-class_vm_scripts/processRestingState_bids_wrapper.sh \\\n",
    "--epi=/home/brain/Labs/12-Lab/sub-999/ses-activepre/func/sub-999_ses-activepre_task-rest_rec-pu_run-01_bold.nii.gz \\\n",
    "--roiList=${PWD}/ROIs/roilist.txt \\\n",
    "--compcor > output.log\n"
   ]
  },
  {
   "cell_type": "markdown",
   "metadata": {},
   "source": [
    "### Output\n",
    "* Output will go into folder named 'derivatives/rsOut' in your 12-Lab directory\n",
    "    * Within this directory the bids data strcture is mirrored and directories for each session filled with output files. Output files of most interest:\n",
    "    * nuisanceRegression/compcor\n",
    "        * intermediate files related to the output of the nuisance regression\n",
    "        * rois directory shows the nuisance ROIs\n",
    "        * final denoised functional image: denoised_func_data_nonaggr_bp_res4d_normandscaled.nii \n",
    "    * seedCorrelation/compcor/rois\n",
    "        * seeds mapped to functional space end with mask\n",
    "        * timeseries data from residual image end with residvol_ms_ts.txt\n",
    "    * EPItoT1optimized_6dof\n",
    "        * registration files, these can be used to warp seeds or seedmaps between functional and MNI space or functional and T1 space\n",
    "        "
   ]
  },
  {
   "cell_type": "markdown",
   "metadata": {},
   "source": [
    "### Seedmaps\n",
    "* One tool to make seedmaps is afni's [3dtcorr1D](https://afni.nimh.nih.gov/pub/dist/doc/program_help/3dTcorr1D.html)\n",
    "* Notice output options include pearson (-pearson) or straight to fisher's z (-Fisher)"
   ]
  },
  {
   "cell_type": "code",
   "execution_count": null,
   "metadata": {},
   "outputs": [],
   "source": [
    "%%bash\n",
    "\n",
    "# change directories to where your residual timeseries data are\n",
    "cd /home/brain/Labs/12-Lab/derivatives/rsOut/sub-999/ses-activepre/seedCorrelation/compcor/rois/\n",
    "\n",
    "# make a pearson seed map with afni 3dTcorr1D tool\n",
    "3dTcorr1D -prefix RVis_corrmap.nii \\\n",
    "-pearson /home/brain/Labs/12-Lab/derivatives/rsOut/sub-999/ses-activepre/nuisanceRegression/compcor/denoised_func_data_nonaggr_bp_res4d_normandscaled.nii.gz \\\n",
    "RVis_residvol_ms_ts.txt"
   ]
  },
  {
   "cell_type": "code",
   "execution_count": null,
   "metadata": {},
   "outputs": [],
   "source": [
    "%%bash\n",
    "\n",
    "# take a look, remember what to check?\n",
    "cd /home/brain/Labs/12-Lab/derivatives/rsOut/sub-999/ses-activepre/seedCorrelation/compcor/rois/\n",
    "fslview /home/brain/Labs/12-Lab/derivatives/rsOut/sub-999/ses-activepre/mcImgMean.nii.gz RVis_corrmap.nii\n",
    "\n",
    "# what would you have to do to do a group analysis of functional connectivity seed maps?"
   ]
  },
  {
   "cell_type": "markdown",
   "metadata": {},
   "source": [
    "\n",
    "With some TLC the run_getroicorr.m and getroicorr.m scripts show examples of how you could use matlab to extract the cross-correlation matrices for a set of ROIs (average roi-roi matrix, and sub x roi-pair matrix) for  list of subjects. This may also be something you could do with python.\n"
   ]
  },
  {
   "cell_type": "markdown",
   "metadata": {},
   "source": [
    "# Optional practice"
   ]
  },
  {
   "cell_type": "markdown",
   "metadata": {},
   "source": [
    "1) Make two new seeds from the Van Dijk paper, and generate the corresponding seedmap."
   ]
  },
  {
   "cell_type": "code",
   "execution_count": null,
   "metadata": {},
   "outputs": [],
   "source": [
    "# your code here"
   ]
  },
  {
   "cell_type": "markdown",
   "metadata": {},
   "source": [
    "2) Use your code from lab 02 to make a timeseries plot of the resting time course from the two visual cortex ROIs, and another plot of two ROIs that should not show high resting state correlations. "
   ]
  },
  {
   "cell_type": "code",
   "execution_count": null,
   "metadata": {},
   "outputs": [],
   "source": [
    "# your code here"
   ]
  }
 ],
 "metadata": {
  "kernelspec": {
   "display_name": "Python 3",
   "language": "python",
   "name": "python3"
  },
  "language_info": {
   "codemirror_mode": {
    "name": "ipython",
    "version": 3
   },
   "file_extension": ".py",
   "mimetype": "text/x-python",
   "name": "python",
   "nbconvert_exporter": "python",
   "pygments_lexer": "ipython3",
   "version": "3.6.3"
  }
 },
 "nbformat": 4,
 "nbformat_minor": 2
}
