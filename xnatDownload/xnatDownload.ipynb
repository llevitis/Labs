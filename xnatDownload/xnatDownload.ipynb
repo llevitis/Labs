{
 "cells": [
  {
   "cell_type": "markdown",
   "metadata": {},
   "source": [
    "# Downloading and converting your dicoms to Niftis from xnat\n",
    "\n",
    "This is conditional on whether you've collected your data as a part of the class. If you've collected your data previously, this method will not work.\n",
    "\n",
    "**Learning Objectives**\n",
    "- Interact with Docker\n",
    "- Understanding how to download data from xnat"
   ]
  },
  {
   "cell_type": "markdown",
   "metadata": {},
   "source": [
    "1) Go to [docker](https://hub.docker.com/) and create a profile.\n",
    "\n",
    "2) Open your terminal (or a new tab) and type `sudo docker login`\n",
    "    - enter in your username and password that you created on the website\n",
    "3) You are now ready to install [xnat_downloader](https://github.com/HBClab/xnat_downloader)!"
   ]
  },
  {
   "cell_type": "code",
   "execution_count": 5,
   "metadata": {},
   "outputs": [
    {
     "name": "stdout",
     "output_type": "stream",
     "text": [
      "[sudo] password for james: \r\n"
     ]
    }
   ],
   "source": [
    "# download xnat_downloader\n",
    "sudo docker pull jdkent/xnat_downloader"
   ]
  },
  {
   "cell_type": "code",
   "execution_count": 4,
   "metadata": {},
   "outputs": [
    {
     "name": "stdout",
     "output_type": "stream",
     "text": [
      "usage: xnat_downloader [-h] [-c CONFIG] [-b BIDS] [-i INPUT_JSON]\n",
      "\n",
      "xnat_downloader downloads xnat dicoms and saves them in BIDs compatible\n",
      "directory format\n",
      "\n",
      "optional arguments:\n",
      "  -h, --help            show this help message and exit\n",
      "  -c CONFIG, --config CONFIG\n",
      "                        login file (contains user/pass info)\n",
      "  -b BIDS, --bids BIDS  Assume data are stored in a BIDS-ish format on xnat\n",
      "\n",
      "Required arguments:\n",
      "  -i INPUT_JSON, --input_json INPUT_JSON\n",
      "                        json file defining inputs for this script.\n"
     ]
    }
   ],
   "source": [
    "# test it out\n",
    "sudo docker run -it --rm jdkent/xnat_downloader --help"
   ]
  },
  {
   "cell_type": "markdown",
   "metadata": {},
   "source": [
    "## Configure Your JSON File\n",
    "\n",
    "your json file will look something like this\n",
    "```\n",
    "{\n",
    "  \"server\": \"https://rpacs.iibi.uiowa.edu/xnat\",\n",
    "  \"destination\": \"/out\",\n",
    "  \"project\": \"xnatDownload\",\n",
    "}\n",
    "```\n",
    "and you can save it as download_config.json, I've provided an example json file here and will test it out in a video."
   ]
  },
  {
   "cell_type": "markdown",
   "metadata": {},
   "source": [
    "## The docker command\n",
    "**Warning**: The script will only work with uiowa's xnat if you are connected to eduroam!\n",
    "\n",
    "Now to run the xnat_downloader through docker, it will be useful to know a little bit about docker. \n",
    "Docker is kind of like the virtual machine you are running now, it's an entire linux operating system with software preinstalled to complete a specific task. \n",
    "So inside your linux virtual machine, you are running an entirely new instance of linux (like a box inside a box). Crazy, right? \n",
    "The docker \"container\", as we call it, only has access to it's own files unless we mount directories to where it can look in our virtualbox using the `-v` option. \n",
    "So if we have our json file in the directory `/home/brain/uiowa-mri-course-2018/labs-jdkent/xnatDownload` and we want to download our data into `/home/brain/uiowa-mri-course-2018/data`, the command will look something like this:\n",
    "\n",
    "```\n",
    "sudo docker run -it --rm \\\n",
    "-v /home/brain/uiowa-mri-course-2018/labs-jdkent/xnatDownload:/json \\\n",
    "-v /home/brain/uiowa-mri-course-2018/data:/out \\\n",
    "jdkent/xnat_downloader -i /json/download_config.json\n",
    "```\n",
    "\n",
    "Then the program will ask you to insert your username and password and it should begin downloading your data for you.\n",
    "\n",
    "[Here is a video](https://youtu.be/nODEX7a7qSI) describing both the manual download process and the automatic download process\n",
    "\n",
    "**NOTE**: for the manual download process you will need to install dcm2niix by typing `sudo apt install dcm2niix`"
   ]
  },
  {
   "cell_type": "code",
   "execution_count": null,
   "metadata": {},
   "outputs": [],
   "source": []
  }
 ],
 "metadata": {
  "kernelspec": {
   "display_name": "Bash",
   "language": "bash",
   "name": "bash"
  },
  "language_info": {
   "codemirror_mode": "shell",
   "file_extension": ".sh",
   "mimetype": "text/x-sh",
   "name": "bash"
  }
 },
 "nbformat": 4,
 "nbformat_minor": 2
}
